{
 "cells": [
  {
   "metadata": {},
   "cell_type": "markdown",
   "source": "## Loading Data ",
   "id": "d7b0c74256490107"
  },
  {
   "cell_type": "code",
   "id": "initial_id",
   "metadata": {
    "collapsed": true,
    "ExecuteTime": {
     "end_time": "2025-02-19T01:34:12.392191Z",
     "start_time": "2025-02-19T01:34:08.873821Z"
    }
   },
   "source": [
    "import pandas as pd\n",
    "import numpy as np\n",
    "import matplotlib.pyplot as plt\n",
    "import seaborn as sns\n",
    "from sklearn.feature_extraction.text import TfidfVectorizer\n",
    "from sklearn.model_selection import train_test_split\n",
    "from sklearn.metrics import accuracy_score, classification_report\n",
    "from tensorflow.keras.models import Sequential\n",
    "from tensorflow.keras.layers import Dense, Dropout\n",
    "from tensorflow.keras.optimizers import Adam\n",
    "\n",
    "\n",
    "train_df = pd.read_csv('data/train.csv')\n",
    "test_df = pd.read_csv('data/test_nolabel.csv')\n",
    "val_df = pd.read_csv('data/val.csv')"
   ],
   "outputs": [],
   "execution_count": 17
  },
  {
   "metadata": {
    "ExecuteTime": {
     "end_time": "2025-02-19T01:34:12.408642Z",
     "start_time": "2025-02-19T01:34:12.399709Z"
    }
   },
   "cell_type": "code",
   "source": [
    "print(train_df.head())\n",
    "print(train_df.info())"
   ],
   "id": "aec3839ada7610f7",
   "outputs": [
    {
     "name": "stdout",
     "output_type": "stream",
     "text": [
      "     id  label                                               text\n",
      "0  8901      5  Bennett 's naturalistic performance speaks vol...\n",
      "1  2506      5  Shot in rich , shadowy black-and-white , Devil...\n",
      "2  2381      5  More than their unique residences , Home Movie...\n",
      "3  1262      3  The movie should be credited with remembering ...\n",
      "4  2542      4  Audiences are advised to sit near the back and...\n",
      "<class 'pandas.core.frame.DataFrame'>\n",
      "RangeIndex: 8298 entries, 0 to 8297\n",
      "Data columns (total 3 columns):\n",
      " #   Column  Non-Null Count  Dtype \n",
      "---  ------  --------------  ----- \n",
      " 0   id      8298 non-null   int64 \n",
      " 1   label   8298 non-null   int64 \n",
      " 2   text    8298 non-null   object\n",
      "dtypes: int64(2), object(1)\n",
      "memory usage: 194.6+ KB\n",
      "None\n"
     ]
    }
   ],
   "execution_count": 18
  },
  {
   "metadata": {},
   "cell_type": "markdown",
   "source": "## Preprocess",
   "id": "6d44f6c7efc3d17e"
  },
  {
   "metadata": {
    "ExecuteTime": {
     "end_time": "2025-02-19T01:34:12.430372Z",
     "start_time": "2025-02-19T01:34:12.427078Z"
    }
   },
   "cell_type": "code",
   "source": [
    "import re\n",
    "from sklearn.feature_extraction.text import ENGLISH_STOP_WORDS, TfidfVectorizer\n",
    "\n",
    "\n",
    "def preprocess_text(text):\n",
    "    text = text.lower()  # Lowercase\n",
    "    text = re.sub(r'\\d+', '', text)  # Remove numbers\n",
    "    text = re.sub(r'[^\\w\\s]', '', text)  # Remove punctuation\n",
    "    text = \" \".join([word for word in text.split() if word not in ENGLISH_STOP_WORDS])  # Remove stopwords\n",
    "    return text\n",
    "\n",
    "\n"
   ],
   "id": "26b3fba5aa9bb5c",
   "outputs": [],
   "execution_count": 19
  },
  {
   "metadata": {},
   "cell_type": "markdown",
   "source": "### Apply text cleaning",
   "id": "4c4e2aaeb4cfdbcf"
  },
  {
   "metadata": {
    "ExecuteTime": {
     "end_time": "2025-02-19T01:34:12.535504Z",
     "start_time": "2025-02-19T01:34:12.444037Z"
    }
   },
   "cell_type": "code",
   "source": [
    "train_df[\"clean_text\"] = train_df[\"text\"].apply(preprocess_text)\n",
    "val_df[\"clean_text\"] = val_df[\"text\"].apply(preprocess_text)\n",
    "test_df[\"clean_text\"] = test_df[\"text\"].apply(preprocess_text)"
   ],
   "id": "370f0700ec8a9c18",
   "outputs": [],
   "execution_count": 20
  },
  {
   "metadata": {},
   "cell_type": "markdown",
   "source": "## Convert Text to Numerical Features (TF-IDF",
   "id": "a402ae739688a016"
  },
  {
   "metadata": {
    "ExecuteTime": {
     "end_time": "2025-02-19T01:34:12.554437Z",
     "start_time": "2025-02-19T01:34:12.551104Z"
    }
   },
   "cell_type": "code",
   "source": "vectorizer = TfidfVectorizer(max_features=5000)",
   "id": "1077776fc17d085",
   "outputs": [],
   "execution_count": 21
  },
  {
   "metadata": {},
   "cell_type": "markdown",
   "source": "#### Transform the text data",
   "id": "af6edb8c083e1fa6"
  },
  {
   "metadata": {
    "ExecuteTime": {
     "end_time": "2025-02-19T01:34:12.756220Z",
     "start_time": "2025-02-19T01:34:12.571145Z"
    }
   },
   "cell_type": "code",
   "source": [
    "X_train = vectorizer.fit_transform(train_df[\"clean_text\"]).toarray()\n",
    "X_val = vectorizer.transform(val_df[\"clean_text\"]).toarray()\n",
    "X_test = vectorizer.transform(test_df[\"clean_text\"]).toarray()"
   ],
   "id": "a0c67ae4467f1ae8",
   "outputs": [],
   "execution_count": 22
  },
  {
   "metadata": {
    "ExecuteTime": {
     "end_time": "2025-02-19T01:34:12.772246Z",
     "start_time": "2025-02-19T01:34:12.768499Z"
    }
   },
   "cell_type": "code",
   "source": [
    "y_train = train_df[\"label\"].values\n",
    "y_val = val_df[\"label\"].values"
   ],
   "id": "3456b6d38600e0b8",
   "outputs": [],
   "execution_count": 23
  },
  {
   "metadata": {},
   "cell_type": "markdown",
   "source": "## Build the MLP Model Using Sequential",
   "id": "492691ff2610ecfb"
  },
  {
   "metadata": {
    "ExecuteTime": {
     "end_time": "2025-02-19T01:34:12.858124Z",
     "start_time": "2025-02-19T01:34:12.786806Z"
    }
   },
   "cell_type": "code",
   "source": [
    "model = Sequential([\n",
    "    Dense(512, activation=\"relu\", input_shape=(X_train.shape[1],)),  # First hidden layer\n",
    "    Dropout(0.5),  # Dropout to prevent overfitting\n",
    "    Dense(256, activation=\"relu\"),  # Second hidden layer\n",
    "    Dropout(0.3),\n",
    "    Dense(128, activation=\"relu\"),  # Third hidden layer\n",
    "    Dense(1, activation=\"sigmoid\")  # Output layer for binary classification\n",
    "])\n",
    "\n",
    "# Compile the model\n",
    "model.compile(optimizer=Adam(learning_rate=0.001), loss=\"binary_crossentropy\", metrics=[\"accuracy\"])\n"
   ],
   "id": "7a3aca19d79b7dac",
   "outputs": [
    {
     "name": "stderr",
     "output_type": "stream",
     "text": [
      "C:\\Users\\User\\anaconda3\\Lib\\site-packages\\keras\\src\\layers\\core\\dense.py:87: UserWarning: Do not pass an `input_shape`/`input_dim` argument to a layer. When using Sequential models, prefer using an `Input(shape)` object as the first layer in the model instead.\n",
      "  super().__init__(activity_regularizer=activity_regularizer, **kwargs)\n"
     ]
    }
   ],
   "execution_count": 24
  },
  {
   "metadata": {},
   "cell_type": "markdown",
   "source": "## Train the Model",
   "id": "875b2d78450b10c5"
  },
  {
   "metadata": {
    "ExecuteTime": {
     "end_time": "2025-02-19T01:34:36.227869Z",
     "start_time": "2025-02-19T01:34:12.869863Z"
    }
   },
   "cell_type": "code",
   "source": [
    "history = model.fit(\n",
    "    X_train, y_train,\n",
    "    validation_data=(X_val, y_val),\n",
    "    epochs=10,  # Increase if needed\n",
    "    batch_size=32\n",
    ")\n"
   ],
   "id": "8a4837a63513e574",
   "outputs": [
    {
     "name": "stdout",
     "output_type": "stream",
     "text": [
      "Epoch 1/10\n",
      "\u001B[1m260/260\u001B[0m \u001B[32m━━━━━━━━━━━━━━━━━━━━\u001B[0m\u001B[37m\u001B[0m \u001B[1m3s\u001B[0m 9ms/step - accuracy: 0.1188 - loss: -48468.8945 - val_accuracy: 0.1417 - val_loss: -1611246.6250\n",
      "Epoch 2/10\n",
      "\u001B[1m260/260\u001B[0m \u001B[32m━━━━━━━━━━━━━━━━━━━━\u001B[0m\u001B[37m\u001B[0m \u001B[1m2s\u001B[0m 8ms/step - accuracy: 0.1298 - loss: -5883862.0000 - val_accuracy: 0.1417 - val_loss: -35886844.0000\n",
      "Epoch 3/10\n",
      "\u001B[1m260/260\u001B[0m \u001B[32m━━━━━━━━━━━━━━━━━━━━\u001B[0m\u001B[37m\u001B[0m \u001B[1m2s\u001B[0m 8ms/step - accuracy: 0.1214 - loss: -64164280.0000 - val_accuracy: 0.1417 - val_loss: -192625936.0000\n",
      "Epoch 4/10\n",
      "\u001B[1m260/260\u001B[0m \u001B[32m━━━━━━━━━━━━━━━━━━━━\u001B[0m\u001B[37m\u001B[0m \u001B[1m2s\u001B[0m 8ms/step - accuracy: 0.1256 - loss: -277694400.0000 - val_accuracy: 0.1417 - val_loss: -601318400.0000\n",
      "Epoch 5/10\n",
      "\u001B[1m260/260\u001B[0m \u001B[32m━━━━━━━━━━━━━━━━━━━━\u001B[0m\u001B[37m\u001B[0m \u001B[1m2s\u001B[0m 8ms/step - accuracy: 0.1266 - loss: -776544448.0000 - val_accuracy: 0.1417 - val_loss: -1410484224.0000\n",
      "Epoch 6/10\n",
      "\u001B[1m260/260\u001B[0m \u001B[32m━━━━━━━━━━━━━━━━━━━━\u001B[0m\u001B[37m\u001B[0m \u001B[1m2s\u001B[0m 8ms/step - accuracy: 0.1197 - loss: -1739781248.0000 - val_accuracy: 0.1417 - val_loss: -2772943872.0000\n",
      "Epoch 7/10\n",
      "\u001B[1m260/260\u001B[0m \u001B[32m━━━━━━━━━━━━━━━━━━━━\u001B[0m\u001B[37m\u001B[0m \u001B[1m2s\u001B[0m 8ms/step - accuracy: 0.1257 - loss: -3263625472.0000 - val_accuracy: 0.1417 - val_loss: -4844554752.0000\n",
      "Epoch 8/10\n",
      "\u001B[1m260/260\u001B[0m \u001B[32m━━━━━━━━━━━━━━━━━━━━\u001B[0m\u001B[37m\u001B[0m \u001B[1m2s\u001B[0m 8ms/step - accuracy: 0.1268 - loss: -5595342336.0000 - val_accuracy: 0.1417 - val_loss: -7772353024.0000\n",
      "Epoch 9/10\n",
      "\u001B[1m260/260\u001B[0m \u001B[32m━━━━━━━━━━━━━━━━━━━━\u001B[0m\u001B[37m\u001B[0m \u001B[1m2s\u001B[0m 9ms/step - accuracy: 0.1265 - loss: -8836434944.0000 - val_accuracy: 0.1417 - val_loss: -11711996928.0000\n",
      "Epoch 10/10\n",
      "\u001B[1m260/260\u001B[0m \u001B[32m━━━━━━━━━━━━━━━━━━━━\u001B[0m\u001B[37m\u001B[0m \u001B[1m2s\u001B[0m 8ms/step - accuracy: 0.1271 - loss: -13063388160.0000 - val_accuracy: 0.1417 - val_loss: -16803204096.0000\n"
     ]
    }
   ],
   "execution_count": 25
  },
  {
   "metadata": {},
   "cell_type": "markdown",
   "source": "## Evaluate the Model",
   "id": "2abb983018e19ae1"
  },
  {
   "metadata": {
    "ExecuteTime": {
     "end_time": "2025-02-19T01:34:36.527626Z",
     "start_time": "2025-02-19T01:34:36.240307Z"
    }
   },
   "cell_type": "code",
   "source": [
    "# Predict on validation set\n",
    "y_val_pred = (model.predict(X_val) > 0.5).astype(int)\n",
    "\n",
    "# Accuracy score\n",
    "accuracy = accuracy_score(y_val, y_val_pred)\n",
    "print(f\"Validation Accuracy: {accuracy:.4f}\")\n",
    "\n",
    "# Classification Report\n",
    "print(classification_report(y_val, y_val_pred))\n"
   ],
   "id": "731b36ebb233823",
   "outputs": [
    {
     "name": "stdout",
     "output_type": "stream",
     "text": [
      "\u001B[1m56/56\u001B[0m \u001B[32m━━━━━━━━━━━━━━━━━━━━\u001B[0m\u001B[37m\u001B[0m \u001B[1m0s\u001B[0m 2ms/step\n",
      "Validation Accuracy: 0.1417\n",
      "              precision    recall  f1-score   support\n",
      "\n",
      "           1       0.14      1.00      0.25       252\n",
      "           2       0.00      0.00      0.00       458\n",
      "           3       0.00      0.00      0.00       309\n",
      "           4       0.00      0.00      0.00       489\n",
      "           5       0.00      0.00      0.00       270\n",
      "\n",
      "    accuracy                           0.14      1778\n",
      "   macro avg       0.03      0.20      0.05      1778\n",
      "weighted avg       0.02      0.14      0.04      1778\n",
      "\n"
     ]
    },
    {
     "name": "stderr",
     "output_type": "stream",
     "text": [
      "C:\\Users\\User\\anaconda3\\Lib\\site-packages\\sklearn\\metrics\\_classification.py:1531: UndefinedMetricWarning: Precision is ill-defined and being set to 0.0 in labels with no predicted samples. Use `zero_division` parameter to control this behavior.\n",
      "  _warn_prf(average, modifier, f\"{metric.capitalize()} is\", len(result))\n",
      "C:\\Users\\User\\anaconda3\\Lib\\site-packages\\sklearn\\metrics\\_classification.py:1531: UndefinedMetricWarning: Precision is ill-defined and being set to 0.0 in labels with no predicted samples. Use `zero_division` parameter to control this behavior.\n",
      "  _warn_prf(average, modifier, f\"{metric.capitalize()} is\", len(result))\n",
      "C:\\Users\\User\\anaconda3\\Lib\\site-packages\\sklearn\\metrics\\_classification.py:1531: UndefinedMetricWarning: Precision is ill-defined and being set to 0.0 in labels with no predicted samples. Use `zero_division` parameter to control this behavior.\n",
      "  _warn_prf(average, modifier, f\"{metric.capitalize()} is\", len(result))\n"
     ]
    }
   ],
   "execution_count": 26
  },
  {
   "metadata": {},
   "cell_type": "markdown",
   "source": "## Make Predictions on the Test Set",
   "id": "17d24015d7c1cd67"
  },
  {
   "metadata": {
    "ExecuteTime": {
     "end_time": "2025-02-19T01:34:36.789848Z",
     "start_time": "2025-02-19T01:34:36.610789Z"
    }
   },
   "cell_type": "code",
   "source": "y_test_pred = (model.predict(X_test) > 0.5).astype(int)\n",
   "id": "a0402ac4a543f7dd",
   "outputs": [
    {
     "name": "stdout",
     "output_type": "stream",
     "text": [
      "\u001B[1m56/56\u001B[0m \u001B[32m━━━━━━━━━━━━━━━━━━━━\u001B[0m\u001B[37m\u001B[0m \u001B[1m0s\u001B[0m 2ms/step\n"
     ]
    }
   ],
   "execution_count": 27
  },
  {
   "metadata": {
    "ExecuteTime": {
     "end_time": "2025-02-19T01:35:39.506287Z",
     "start_time": "2025-02-19T01:35:39.498092Z"
    }
   },
   "cell_type": "code",
   "source": [
    "submission = pd.DataFrame({\"id\": test_df[\"id\"], \"label\": y_test_pred.flatten()})\n",
    "submission.to_csv(\"submission.csv\", index=False)\n"
   ],
   "id": "10c2d0430f273500",
   "outputs": [],
   "execution_count": 28
  }
 ],
 "metadata": {
  "kernelspec": {
   "display_name": "Python 3",
   "language": "python",
   "name": "python3"
  },
  "language_info": {
   "codemirror_mode": {
    "name": "ipython",
    "version": 2
   },
   "file_extension": ".py",
   "mimetype": "text/x-python",
   "name": "python",
   "nbconvert_exporter": "python",
   "pygments_lexer": "ipython2",
   "version": "2.7.6"
  }
 },
 "nbformat": 4,
 "nbformat_minor": 5
}
